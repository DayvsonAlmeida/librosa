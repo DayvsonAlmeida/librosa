{
 "cells": [
  {
   "cell_type": "code",
   "execution_count": 1,
   "metadata": {},
   "outputs": [],
   "source": [
    "import numpy as np"
   ]
  },
  {
   "cell_type": "code",
   "execution_count": 3,
   "metadata": {},
   "outputs": [],
   "source": [
    "def hz_to_mel(frequencies, htk=False):\n",
    "\n",
    "    frequencies = np.asanyarray(frequencies)\n",
    "\n",
    "    if htk:\n",
    "        return 2595.0 * np.log10(1.0 + frequencies / 700.0)\n",
    "\n",
    "    # Fill in the linear part\n",
    "    f_min = 0.0\n",
    "    f_sp = 200.0 / 3\n",
    "\n",
    "    mels = (frequencies - f_min) / f_sp\n",
    "\n",
    "    # Fill in the log-scale part\n",
    "\n",
    "    min_log_hz = 1000.0                         # beginning of log region (Hz)\n",
    "    min_log_mel = (min_log_hz - f_min) / f_sp   # same (Mels)\n",
    "    logstep = np.log(6.4) / 27.0                # step size for log region\n",
    "\n",
    "    if frequencies.ndim:\n",
    "        # If we have array data, vectorize\n",
    "        log_t = (frequencies >= min_log_hz)\n",
    "        mels[log_t] = min_log_mel + np.log(frequencies[log_t]/min_log_hz) / logstep\n",
    "    elif frequencies >= min_log_hz:\n",
    "        # If we have scalar data, heck directly\n",
    "        mels = min_log_mel + np.log(frequencies / min_log_hz) / logstep\n",
    "\n",
    "    return mels"
   ]
  },
  {
   "cell_type": "code",
   "execution_count": 14,
   "metadata": {},
   "outputs": [],
   "source": [
    "a = hz_to_mel(0)\n",
    "b = hz_to_mel(8000)"
   ]
  },
  {
   "cell_type": "code",
   "execution_count": 15,
   "metadata": {},
   "outputs": [
    {
     "data": {
      "text/plain": [
       "(0.0, 45.245640471924965)"
      ]
     },
     "execution_count": 15,
     "metadata": {},
     "output_type": "execute_result"
    }
   ],
   "source": [
    "a,b"
   ]
  },
  {
   "cell_type": "code",
   "execution_count": 17,
   "metadata": {},
   "outputs": [],
   "source": [
    "\n",
    "def mel_to_hz(mels, htk=False):\n",
    "   \n",
    "\n",
    "    mels = np.asanyarray(mels)\n",
    "\n",
    "    if htk:\n",
    "        return 700.0 * (10.0**(mels / 2595.0) - 1.0)\n",
    "\n",
    "    # Fill in the linear scale\n",
    "    f_min = 0.0\n",
    "    f_sp = 200.0 / 3\n",
    "    freqs = f_min + f_sp * mels\n",
    "\n",
    "    # And now the nonlinear scale\n",
    "    min_log_hz = 1000.0                         # beginning of log region (Hz)\n",
    "    min_log_mel = (min_log_hz - f_min) / f_sp   # same (Mels)\n",
    "    logstep = np.log(6.4) / 27.0                # step size for log region\n",
    "\n",
    "    if mels.ndim:\n",
    "        # If we have vector data, vectorize\n",
    "        log_t = (mels >= min_log_mel)\n",
    "        freqs[log_t] = min_log_hz * np.exp(logstep * (mels[log_t] - min_log_mel))\n",
    "    elif mels >= min_log_mel:\n",
    "        # If we have scalar data, check directly\n",
    "        freqs = min_log_hz * np.exp(logstep * (mels - min_log_mel))\n",
    "\n",
    "    return freqs"
   ]
  },
  {
   "cell_type": "code",
   "execution_count": 18,
   "metadata": {},
   "outputs": [],
   "source": [
    "mels = np.linspace(0,8000,128)"
   ]
  },
  {
   "cell_type": "code",
   "execution_count": 19,
   "metadata": {},
   "outputs": [],
   "source": [
    "mthz = mel_to_hz(mels)"
   ]
  },
  {
   "cell_type": "code",
   "execution_count": 20,
   "metadata": {},
   "outputs": [
    {
     "data": {
      "text/plain": [
       "array([0.00000000e+000, 2.71002774e+004, 2.05980086e+006, 1.56558530e+008,\n",
       "       1.18994869e+010, 9.04439944e+011, 6.87434357e+013, 5.22495715e+015,\n",
       "       3.97131406e+017, 3.01846214e+019, 2.29423147e+021, 1.74376811e+023,\n",
       "       1.32537945e+025, 1.00737630e+027, 7.65672819e+028, 5.81962136e+030,\n",
       "       4.42329831e+032, 3.36200015e+034, 2.55534315e+036, 1.94223031e+038,\n",
       "       1.47622388e+040, 1.12202808e+042, 8.52815777e+043, 6.48196566e+045,\n",
       "       4.92672391e+047, 3.74463701e+049, 2.84617254e+051, 2.16327994e+053,\n",
       "       1.64423627e+055, 1.24972864e+057, 9.49876673e+058, 7.21969286e+060,\n",
       "       5.48744552e+062, 4.17082263e+064, 3.17010189e+066, 2.40948774e+068,\n",
       "       1.83137052e+070, 1.39196309e+072, 1.05798429e+074, 8.04138246e+075,\n",
       "       6.11198413e+077, 4.64551340e+079, 3.53089836e+081, 2.68371699e+083,\n",
       "       2.03980295e+085, 1.55038556e+087, 1.17839588e+089, 8.95659041e+090,\n",
       "       6.80760289e+092, 5.17422981e+094, 3.93275791e+096, 2.98915691e+098,\n",
       "       2.27195755e+100, 1.72683846e+102, 1.31251178e+104, 9.97596026e+105,\n",
       "       7.58239160e+107, 5.76312062e+109, 4.38035400e+111, 3.32935963e+113,\n",
       "       2.53053418e+115, 1.92337385e+117, 1.46189172e+119, 1.11113469e+121,\n",
       "       8.44536076e+122, 6.41903444e+124, 4.87889201e+126, 3.70828159e+128,\n",
       "       2.81854001e+130, 2.14227739e+132, 1.62827293e+134, 1.23759545e+136,\n",
       "       9.40654641e+137, 7.14959929e+139, 5.43416976e+141, 4.13032952e+143,\n",
       "       3.13932444e+145, 2.38609483e+147, 1.81359036e+149, 1.37844899e+151,\n",
       "       1.04771268e+153, 7.96331139e+154, 6.05264493e+156, 4.60041168e+158,\n",
       "       3.49661806e+160, 2.65766169e+162, 2.01999919e+164, 1.53533339e+166,\n",
       "       1.16695523e+168, 8.86963390e+169, 6.74151017e+171, 5.12399495e+173,\n",
       "       3.89457609e+175, 2.96013619e+177, 2.24989988e+179, 1.71007316e+181,\n",
       "       1.29976905e+183, 9.87910703e+184, 7.50877672e+186, 5.70716843e+188,\n",
       "       4.33782662e+190, 3.29703600e+192, 2.50596608e+194, 1.90470046e+196,\n",
       "       1.44769871e+198, 1.10034706e+200, 8.36336761e+201, 6.35671420e+203,\n",
       "       4.83152449e+205, 3.67227913e+207, 2.79117576e+209, 2.12147874e+211,\n",
       "       1.61246458e+213, 1.22558005e+215, 9.31522142e+216, 7.08018625e+218,\n",
       "       5.38141124e+220, 4.09022954e+222, 3.10884579e+224, 2.36292904e+226,\n",
       "       1.79598283e+228, 1.36506609e+230, 1.03754079e+232, 7.88599828e+233,\n",
       "       5.99388185e+235, 4.55574783e+237, 3.46267058e+239, 2.63185935e+241])"
      ]
     },
     "execution_count": 20,
     "metadata": {},
     "output_type": "execute_result"
    }
   ],
   "source": [
    "mthz"
   ]
  },
  {
   "cell_type": "code",
   "execution_count": 21,
   "metadata": {},
   "outputs": [
    {
     "data": {
      "text/plain": [
       "(128,)"
      ]
     },
     "execution_count": 21,
     "metadata": {},
     "output_type": "execute_result"
    }
   ],
   "source": [
    "mthz.shape\n"
   ]
  }
 ],
 "metadata": {
  "kernelspec": {
   "display_name": "Python 3",
   "language": "python",
   "name": "python3"
  },
  "language_info": {
   "codemirror_mode": {
    "name": "ipython",
    "version": 3
   },
   "file_extension": ".py",
   "mimetype": "text/x-python",
   "name": "python",
   "nbconvert_exporter": "python",
   "pygments_lexer": "ipython3",
   "version": "3.5.5"
  }
 },
 "nbformat": 4,
 "nbformat_minor": 2
}
